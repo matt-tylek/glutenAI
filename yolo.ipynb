{
 "cells": [
  {
   "cell_type": "code",
   "execution_count": 15,
   "metadata": {},
   "outputs": [
    {
     "name": "stdout",
     "output_type": "stream",
     "text": [
      "loading Roboflow workspace...\n",
      "loading Roboflow project...\n",
      "Dependency ultralytics<=8.0.20 is required but found version=8.0.137, to fix: `pip install ultralytics<=8.0.20`\n",
      "Downloading Dataset Version Zip in Menu-item-Gluten-Free-4 to yolov8: 100% [56175480 / 56175480] bytes\n"
     ]
    },
    {
     "name": "stderr",
     "output_type": "stream",
     "text": [
      "Extracting Dataset Version Zip to Menu-item-Gluten-Free-4 in yolov8:: 100%|██████████| 196/196 [00:00<00:00, 2223.43it/s]\n"
     ]
    }
   ],
   "source": [
    "from roboflow import Roboflow\n",
    "rf = Roboflow(api_key=\"M6nlYu94STTDmfNhmutN\")\n",
    "project = rf.workspace(\"matt-tylek-ijkga\").project(\"menu-item-gluten-free\")\n",
    "dataset = project.version(4).download(\"yolov8\")"
   ]
  },
  {
   "cell_type": "code",
   "execution_count": 17,
   "metadata": {},
   "outputs": [],
   "source": [
    "import subprocess\n",
    "command = \"yolo task=detect mode=train model=yolov8s.pt data={}/data.yaml epochs=100 imgsz=640\".format(dataset.location)\n",
    "subprocess.run(command, shell=True)"
   ]
  },
  {
   "cell_type": "code",
   "execution_count": 13,
   "metadata": {},
   "outputs": [
    {
     "name": "stderr",
     "output_type": "stream",
     "text": [
      "Ultralytics YOLOv8.0.137 🚀 Python-3.9.6 torch-2.0.1 CPU (Apple M2)\n",
      "Model summary (fused): 168 layers, 11125971 parameters, 0 gradients\n",
      "\u001b[34m\u001b[1mval: \u001b[0mScanning /Users/mtylek/glutenAI/Menu-item-Gluten-Free-3/valid/labels.cache... 4 images, 0 backgrounds, 0 corrupt: 100%|██████████| 4/4 [00:00<?, ?it/s]\n",
      "                 Class     Images  Instances      Box(P          R      mAP50  mAP50-95): 100%|██████████| 1/1 [00:00<00:00,  1.84it/s]\n",
      "                   all          4        146      0.816        0.5      0.632       0.34\n",
      "Speed: 0.6ms preprocess, 111.3ms inference, 0.0ms loss, 1.4ms postprocess per image\n",
      "Results saved to \u001b[1m/Users/mtylek/glutenAI/objectDetection/ultralytics/runs/detect/val4\u001b[0m\n"
     ]
    },
    {
     "data": {
      "text/plain": [
       "CompletedProcess(args=['yolo', 'task=detect', 'mode=val', 'model=./objectDetection/ultralytics/runs/detect/train6/weights/best.pt', 'data=/Users/mtylek/glutenAI/Menu-item-Gluten-Free-3/data.yaml'], returncode=0)"
      ]
     },
     "execution_count": 13,
     "metadata": {},
     "output_type": "execute_result"
    }
   ],
   "source": [
    "import subprocess\n",
    "train = 'train7'\n",
    "subprocess.run([\n",
    "    \"yolo\",\n",
    "    \"task=detect\",\n",
    "    \"mode=val\",\n",
    "    f\"model=./objectDetection/ultralytics/runs/detect/{train}/weights/best.pt\",\n",
    "    f\"data={dataset.location}/data.yaml\"\n",
    "])"
   ]
  },
  {
   "cell_type": "code",
   "execution_count": 14,
   "metadata": {},
   "outputs": [
    {
     "name": "stderr",
     "output_type": "stream",
     "text": [
      "Ultralytics YOLOv8.0.137 🚀 Python-3.9.6 torch-2.0.1 CPU (Apple M2)\n",
      "Model summary (fused): 168 layers, 11125971 parameters, 0 gradients\n",
      "\n",
      "image 1/2 /Users/mtylek/glutenAI/Menu-item-Gluten-Free-3/test/images/BARBUSA-FOOD-NEW-MENU__5-4-23-scaled_jpg.rf.4039666966c74b76891e18c58ddf4a64.jpg: 640x416 76 Menu-Itemss, 89.3ms\n",
      "image 2/2 /Users/mtylek/glutenAI/Menu-item-Gluten-Free-3/test/images/popup-menu-email_png.rf.4497cb4e4c3802d6939db96a77c5037f.jpg: 640x416 7 Menu-Itemss, 87.8ms\n",
      "Speed: 1.2ms preprocess, 88.6ms inference, 0.6ms postprocess per image at shape (1, 3, 640, 416)\n",
      "Results saved to \u001b[1m/Users/mtylek/glutenAI/objectDetection/ultralytics/runs/detect/predict3\u001b[0m\n"
     ]
    },
    {
     "data": {
      "text/plain": [
       "CompletedProcess(args=['yolo', 'task=detect', 'mode=predict', 'model=./objectDetection/ultralytics/runs/detect/train6/weights/best.pt', 'conf=0.25', 'source=/Users/mtylek/glutenAI/Menu-item-Gluten-Free-3/test/images'], returncode=0)"
      ]
     },
     "execution_count": 14,
     "metadata": {},
     "output_type": "execute_result"
    }
   ],
   "source": [
    "import subprocess\n",
    "\n",
    "model_path = f\"./objectDetection/ultralytics/runs/detect/{train}/weights/best.pt\"\n",
    "conf = 0.25\n",
    "source_path = f\"{dataset.location}/test/images\"\n",
    "\n",
    "# Construct the subprocess command\n",
    "command = [\n",
    "    \"yolo\",\n",
    "    \"task=detect\",\n",
    "    \"mode=predict\",\n",
    "    f\"model={model_path}\",\n",
    "    f\"conf={conf}\",\n",
    "    f\"source={source_path}\"\n",
    "]\n",
    "\n",
    "# Run the subprocess\n",
    "subprocess.run(command)\n",
    "\n"
   ]
  }
 ],
 "metadata": {
  "kernelspec": {
   "display_name": "Python 3",
   "language": "python",
   "name": "python3"
  },
  "language_info": {
   "codemirror_mode": {
    "name": "ipython",
    "version": 3
   },
   "file_extension": ".py",
   "mimetype": "text/x-python",
   "name": "python",
   "nbconvert_exporter": "python",
   "pygments_lexer": "ipython3",
   "version": "3.9.6"
  },
  "orig_nbformat": 4
 },
 "nbformat": 4,
 "nbformat_minor": 2
}
